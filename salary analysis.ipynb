{
 "cells": [
  {
   "cell_type": "code",
   "execution_count": 3,
   "id": "8c683942-81da-4532-ae35-2c14d52f68e5",
   "metadata": {},
   "outputs": [],
   "source": [
    "import numpy as np\n",
    "import pandas as pd\n"
   ]
  },
  {
   "cell_type": "code",
   "execution_count": 11,
   "id": "c4db89c6-66de-47cc-b6ba-26f0d3d73b3e",
   "metadata": {},
   "outputs": [],
   "source": [
    "df=pd.read_csv(\"Partially Cleaned Salary Dataset.csv\")"
   ]
  },
  {
   "cell_type": "code",
   "execution_count": 15,
   "id": "5d0dbddc-d610-4ece-9a75-47b6a5e7e2ac",
   "metadata": {},
   "outputs": [
    {
     "data": {
      "text/html": [
       "<div>\n",
       "<style scoped>\n",
       "    .dataframe tbody tr th:only-of-type {\n",
       "        vertical-align: middle;\n",
       "    }\n",
       "\n",
       "    .dataframe tbody tr th {\n",
       "        vertical-align: top;\n",
       "    }\n",
       "\n",
       "    .dataframe thead th {\n",
       "        text-align: right;\n",
       "    }\n",
       "</style>\n",
       "<table border=\"1\" class=\"dataframe\">\n",
       "  <thead>\n",
       "    <tr style=\"text-align: right;\">\n",
       "      <th></th>\n",
       "      <th>Unnamed: 0</th>\n",
       "      <th>Company Name</th>\n",
       "      <th>Job Title</th>\n",
       "      <th>Salaries Reported</th>\n",
       "      <th>Location</th>\n",
       "      <th>Salary</th>\n",
       "    </tr>\n",
       "  </thead>\n",
       "  <tbody>\n",
       "    <tr>\n",
       "      <th>0</th>\n",
       "      <td>0</td>\n",
       "      <td>Mu Sigma</td>\n",
       "      <td>Data Scientist</td>\n",
       "      <td>105</td>\n",
       "      <td>Bangalore</td>\n",
       "      <td>648573.0</td>\n",
       "    </tr>\n",
       "    <tr>\n",
       "      <th>1</th>\n",
       "      <td>1</td>\n",
       "      <td>IBM</td>\n",
       "      <td>Data Scientist</td>\n",
       "      <td>95</td>\n",
       "      <td>Bangalore</td>\n",
       "      <td>1191950.0</td>\n",
       "    </tr>\n",
       "    <tr>\n",
       "      <th>2</th>\n",
       "      <td>2</td>\n",
       "      <td>Tata Consultancy Services</td>\n",
       "      <td>Data Scientist</td>\n",
       "      <td>66</td>\n",
       "      <td>Bangalore</td>\n",
       "      <td>836874.0</td>\n",
       "    </tr>\n",
       "    <tr>\n",
       "      <th>3</th>\n",
       "      <td>3</td>\n",
       "      <td>Impact Analytics</td>\n",
       "      <td>Data Scientist</td>\n",
       "      <td>40</td>\n",
       "      <td>Bangalore</td>\n",
       "      <td>669578.0</td>\n",
       "    </tr>\n",
       "    <tr>\n",
       "      <th>4</th>\n",
       "      <td>4</td>\n",
       "      <td>Accenture</td>\n",
       "      <td>Data Scientist</td>\n",
       "      <td>32</td>\n",
       "      <td>Bangalore</td>\n",
       "      <td>944110.0</td>\n",
       "    </tr>\n",
       "  </tbody>\n",
       "</table>\n",
       "</div>"
      ],
      "text/plain": [
       "   Unnamed: 0               Company Name       Job Title  Salaries Reported  \\\n",
       "0           0                   Mu Sigma  Data Scientist                105   \n",
       "1           1                        IBM  Data Scientist                 95   \n",
       "2           2  Tata Consultancy Services  Data Scientist                 66   \n",
       "3           3           Impact Analytics  Data Scientist                 40   \n",
       "4           4                  Accenture  Data Scientist                 32   \n",
       "\n",
       "    Location     Salary  \n",
       "0  Bangalore   648573.0  \n",
       "1  Bangalore  1191950.0  \n",
       "2  Bangalore   836874.0  \n",
       "3  Bangalore   669578.0  \n",
       "4  Bangalore   944110.0  "
      ]
     },
     "execution_count": 15,
     "metadata": {},
     "output_type": "execute_result"
    }
   ],
   "source": [
    "df.head(5)"
   ]
  },
  {
   "cell_type": "code",
   "execution_count": 21,
   "id": "2d22bc49-dd63-4cdf-a284-5adb4cb1a9ae",
   "metadata": {},
   "outputs": [],
   "source": [
    "df=df.drop(\"Unnamed: 0\",axis=1)"
   ]
  },
  {
   "cell_type": "code",
   "execution_count": 25,
   "id": "34ae7d30-341d-44ac-89a8-ae696906a82b",
   "metadata": {},
   "outputs": [],
   "source": [
    "df.head(3)\n",
    "df=df.drop(\"Job Title\",axis=1)"
   ]
  },
  {
   "cell_type": "code",
   "execution_count": 27,
   "id": "8354dae5-3e0e-4f2f-aa5d-9a29e767fe3c",
   "metadata": {},
   "outputs": [
    {
     "data": {
      "text/html": [
       "<div>\n",
       "<style scoped>\n",
       "    .dataframe tbody tr th:only-of-type {\n",
       "        vertical-align: middle;\n",
       "    }\n",
       "\n",
       "    .dataframe tbody tr th {\n",
       "        vertical-align: top;\n",
       "    }\n",
       "\n",
       "    .dataframe thead th {\n",
       "        text-align: right;\n",
       "    }\n",
       "</style>\n",
       "<table border=\"1\" class=\"dataframe\">\n",
       "  <thead>\n",
       "    <tr style=\"text-align: right;\">\n",
       "      <th></th>\n",
       "      <th>Company Name</th>\n",
       "      <th>Salaries Reported</th>\n",
       "      <th>Location</th>\n",
       "      <th>Salary</th>\n",
       "    </tr>\n",
       "  </thead>\n",
       "  <tbody>\n",
       "    <tr>\n",
       "      <th>0</th>\n",
       "      <td>Mu Sigma</td>\n",
       "      <td>105</td>\n",
       "      <td>Bangalore</td>\n",
       "      <td>648573.0</td>\n",
       "    </tr>\n",
       "    <tr>\n",
       "      <th>1</th>\n",
       "      <td>IBM</td>\n",
       "      <td>95</td>\n",
       "      <td>Bangalore</td>\n",
       "      <td>1191950.0</td>\n",
       "    </tr>\n",
       "    <tr>\n",
       "      <th>2</th>\n",
       "      <td>Tata Consultancy Services</td>\n",
       "      <td>66</td>\n",
       "      <td>Bangalore</td>\n",
       "      <td>836874.0</td>\n",
       "    </tr>\n",
       "  </tbody>\n",
       "</table>\n",
       "</div>"
      ],
      "text/plain": [
       "                Company Name  Salaries Reported   Location     Salary\n",
       "0                   Mu Sigma                105  Bangalore   648573.0\n",
       "1                        IBM                 95  Bangalore  1191950.0\n",
       "2  Tata Consultancy Services                 66  Bangalore   836874.0"
      ]
     },
     "execution_count": 27,
     "metadata": {},
     "output_type": "execute_result"
    }
   ],
   "source": [
    "df.head(3)"
   ]
  },
  {
   "cell_type": "code",
   "execution_count": 29,
   "id": "0099d958-a96c-4f44-95a2-684e6fad40a5",
   "metadata": {},
   "outputs": [
    {
     "data": {
      "text/plain": [
       "Company Name         0\n",
       "Salaries Reported    0\n",
       "Location             0\n",
       "Salary               0\n",
       "dtype: int64"
      ]
     },
     "execution_count": 29,
     "metadata": {},
     "output_type": "execute_result"
    }
   ],
   "source": [
    "df.isnull().sum()"
   ]
  },
  {
   "cell_type": "code",
   "execution_count": 31,
   "id": "3f5288bd-7e49-415c-a632-103680fcff1c",
   "metadata": {},
   "outputs": [
    {
     "data": {
      "text/html": [
       "<div>\n",
       "<style scoped>\n",
       "    .dataframe tbody tr th:only-of-type {\n",
       "        vertical-align: middle;\n",
       "    }\n",
       "\n",
       "    .dataframe tbody tr th {\n",
       "        vertical-align: top;\n",
       "    }\n",
       "\n",
       "    .dataframe thead th {\n",
       "        text-align: right;\n",
       "    }\n",
       "</style>\n",
       "<table border=\"1\" class=\"dataframe\">\n",
       "  <thead>\n",
       "    <tr style=\"text-align: right;\">\n",
       "      <th></th>\n",
       "      <th>Salaries Reported</th>\n",
       "      <th>Salary</th>\n",
       "    </tr>\n",
       "  </thead>\n",
       "  <tbody>\n",
       "    <tr>\n",
       "      <th>count</th>\n",
       "      <td>4339.000000</td>\n",
       "      <td>4.339000e+03</td>\n",
       "    </tr>\n",
       "    <tr>\n",
       "      <th>mean</th>\n",
       "      <td>2.777138</td>\n",
       "      <td>1.119885e+06</td>\n",
       "    </tr>\n",
       "    <tr>\n",
       "      <th>std</th>\n",
       "      <td>5.148095</td>\n",
       "      <td>4.300905e+06</td>\n",
       "    </tr>\n",
       "    <tr>\n",
       "      <th>min</th>\n",
       "      <td>1.000000</td>\n",
       "      <td>1.081400e+04</td>\n",
       "    </tr>\n",
       "    <tr>\n",
       "      <th>25%</th>\n",
       "      <td>1.000000</td>\n",
       "      <td>4.199380e+05</td>\n",
       "    </tr>\n",
       "    <tr>\n",
       "      <th>50%</th>\n",
       "      <td>1.000000</td>\n",
       "      <td>7.062830e+05</td>\n",
       "    </tr>\n",
       "    <tr>\n",
       "      <th>75%</th>\n",
       "      <td>3.000000</td>\n",
       "      <td>1.196675e+06</td>\n",
       "    </tr>\n",
       "    <tr>\n",
       "      <th>max</th>\n",
       "      <td>105.000000</td>\n",
       "      <td>1.661404e+08</td>\n",
       "    </tr>\n",
       "  </tbody>\n",
       "</table>\n",
       "</div>"
      ],
      "text/plain": [
       "       Salaries Reported        Salary\n",
       "count        4339.000000  4.339000e+03\n",
       "mean            2.777138  1.119885e+06\n",
       "std             5.148095  4.300905e+06\n",
       "min             1.000000  1.081400e+04\n",
       "25%             1.000000  4.199380e+05\n",
       "50%             1.000000  7.062830e+05\n",
       "75%             3.000000  1.196675e+06\n",
       "max           105.000000  1.661404e+08"
      ]
     },
     "execution_count": 31,
     "metadata": {},
     "output_type": "execute_result"
    }
   ],
   "source": [
    "df.describe()"
   ]
  },
  {
   "cell_type": "code",
   "execution_count": 37,
   "id": "447b8175-2bee-47d6-8b96-a4f5dacd0f0a",
   "metadata": {},
   "outputs": [
    {
     "name": "stdout",
     "output_type": "stream",
     "text": [
      "kategorik: 2\n",
      "numeric: 2\n"
     ]
    }
   ],
   "source": [
    "kategorik = [col for col in df.columns if df[col].dtypes == \"O\"]\n",
    "numeric = [col for col in df.columns if df[col].dtypes != \"O\"]\n",
    "print(f'kategorik: {len(kategorik)}')\n",
    "print(f'numeric: {len(numeric)}')"
   ]
  },
  {
   "cell_type": "code",
   "execution_count": 39,
   "id": "407aff2c-20f6-4229-b263-3523dd66aa6e",
   "metadata": {},
   "outputs": [],
   "source": [
    "import seaborn as sns\n",
    "import matplotlib.pyplot as plt"
   ]
  },
  {
   "cell_type": "code",
   "execution_count": 41,
   "id": "30bc6d5d-1820-4de2-92bc-2cda063e692d",
   "metadata": {},
   "outputs": [
    {
     "name": "stdout",
     "output_type": "stream",
     "text": [
      "                            Company Name     Ratio\n",
      "Company Name                                      \n",
      "Tata Consultancy Services             41  0.944918\n",
      "Amazon                                31  0.714450\n",
      "Accenture                             30  0.691404\n",
      "Google                                27  0.622263\n",
      "IBM                                   26  0.599216\n",
      "...                                  ...       ...\n",
      "URS Technologies Solutions             1  0.023047\n",
      "Aniket Sonawane                        1  0.023047\n",
      "Brahman bhetun                         1  0.023047\n",
      "Airavaat Car Rentals                   1  0.023047\n",
      "Market Pulse Technologies              1  0.023047\n",
      "\n",
      "[2528 rows x 2 columns]\n",
      "           Location      Ratio\n",
      "Location                      \n",
      "Bangalore      1584  36.506107\n",
      "Pune            814  18.760083\n",
      "Hyderabad       669  15.418299\n",
      "New Delhi       655  15.095644\n",
      "Mumbai          617  14.219866\n"
     ]
    }
   ],
   "source": [
    "def kategorik_toplam(df, col_name, plot=False):\n",
    "    print(pd.DataFrame({col_name: df[col_name].value_counts(),\n",
    "                        \"Ratio\": 100 * df[col_name].value_counts() / len(df)}))\n",
    "\n",
    "    if plot:\n",
    "        sns.countplot(x=df[col_name], data=df)\n",
    "        plt.show(block=True)\n",
    "\n",
    "\n",
    "for col in kategorik:\n",
    "    kategorik_toplam(df, col)"
   ]
  },
  {
   "cell_type": "code",
   "execution_count": 43,
   "id": "2a7f4ecf-12c1-4a6e-a170-f71c19aec699",
   "metadata": {},
   "outputs": [
    {
     "name": "stdout",
     "output_type": "stream",
     "text": [
      "count    4339.000000\n",
      "mean        2.777138\n",
      "std         5.148095\n",
      "min         1.000000\n",
      "5%          1.000000\n",
      "10%         1.000000\n",
      "20%         1.000000\n",
      "30%         1.000000\n",
      "40%         1.000000\n",
      "50%         1.000000\n",
      "60%         2.000000\n",
      "70%         2.000000\n",
      "80%         3.000000\n",
      "90%         5.000000\n",
      "95%         9.000000\n",
      "99%        25.000000\n",
      "max       105.000000\n",
      "Name: Salaries Reported, dtype: float64\n"
     ]
    },
    {
     "data": {
      "image/png": "[encoded data removed]",
      "text/plain": [
       "<Figure size 640x480 with 1 Axes>"
      ]
     },
     "metadata": {},
     "output_type": "display_data"
    },
    {
     "name": "stdout",
     "output_type": "stream",
     "text": [
      "#####################################\n",
      "count    4.339000e+03\n",
      "mean     1.119885e+06\n",
      "std      4.300905e+06\n",
      "min      1.081400e+04\n",
      "5%       1.734816e+05\n",
      "10%      2.460024e+05\n",
      "20%      3.645500e+05\n",
      "30%      4.817410e+05\n",
      "40%      6.010918e+05\n",
      "50%      7.062830e+05\n",
      "60%      8.703930e+05\n",
      "70%      1.049871e+06\n",
      "80%      1.289859e+06\n",
      "90%      1.773470e+06\n",
      "95%      2.266331e+06\n",
      "99%      5.010108e+06\n",
      "max      1.661404e+08\n",
      "Name: Salary, dtype: float64\n"
     ]
    },
    {
     "data": {
      "image/png": "[encoded data removed]",
      "text/plain": [
       "<Figure size 640x480 with 1 Axes>"
      ]
     },
     "metadata": {},
     "output_type": "display_data"
    },
    {
     "name": "stdout",
     "output_type": "stream",
     "text": [
      "#####################################\n"
     ]
    }
   ],
   "source": [
    "def numeric_toplam(df, numeric, plot=False):\n",
    "    quantiles = [0.05, 0.10, 0.20, 0.30, 0.40, 0.50, 0.60, 0.70, 0.80, 0.90, 0.95, 0.99]\n",
    "    print(df[numeric].describe(quantiles).T)\n",
    "\n",
    "    if plot:\n",
    "        df[numeric].hist(bins=50)\n",
    "        plt.xlabel(numeric)\n",
    "        plt.title(numeric)\n",
    "        plt.show(block=True)\n",
    "\n",
    "    print(\"#####################################\")\n",
    "\n",
    "\n",
    "for col in numeric:\n",
    "    numeric_toplam(df, col, True)"
   ]
  },
  {
   "cell_type": "code",
   "execution_count": 49,
   "id": "5f706824-db10-4161-a17b-9e6b8caa4814",
   "metadata": {},
   "outputs": [
    {
     "name": "stdout",
     "output_type": "stream",
     "text": [
      "                 TARGET_MEAN\n",
      "Company Name                \n",
      "& Other Stories     722247.0\n",
      "---                 120000.0\n",
      "159 Solutions       828777.0\n",
      "1mg                 991426.0\n",
      "20K Group            32260.0\n",
      "...                      ...\n",
      "vPhrase             588844.2\n",
      "vitrana            1000000.0\n",
      "wayForward          845183.0\n",
      "yellow.ai           587282.5\n",
      "Águas Guariroba     666792.0\n",
      "\n",
      "[2528 rows x 1 columns]\n",
      "\n",
      "\n",
      "            TARGET_MEAN\n",
      "Location               \n",
      "Bangalore  1.184622e+06\n",
      "Hyderabad  1.200312e+06\n",
      "Mumbai     1.018556e+06\n",
      "New Delhi  8.386296e+05\n",
      "Pune       1.230932e+06\n",
      "\n",
      "\n"
     ]
    }
   ],
   "source": [
    "def hedef_değisken_analizi(df, target, kategorik_kolon):\n",
    "    print(pd.DataFrame({\"TARGET_MEAN\": df.groupby(kategorik_kolon)[target].mean()}), end=\"\\n\\n\\n\")\n",
    "\n",
    "\n",
    "for kolon in kategorik:\n",
    "    hedef_değisken_analizi(df,\"Salary\",kolon)"
   ]
  },
  {
   "cell_type": "code",
   "execution_count": 51,
   "id": "f4f95a99-08cf-4523-9943-e601f35e1fa0",
   "metadata": {},
   "outputs": [
    {
     "data": {
      "image/png": "[encoded data removed]",
      "text/plain": [
       "<Figure size 640x480 with 1 Axes>"
      ]
     },
     "metadata": {},
     "output_type": "display_data"
    }
   ],
   "source": [
    "df[\"Salary\"].hist(bins=100)\n",
    "plt.show(block=True)"
   ]
  },
  {
   "cell_type": "code",
   "execution_count": 53,
   "id": "204e3d0c-f7bf-497f-b8ca-cfa819b02c02",
   "metadata": {},
   "outputs": [
    {
     "data": {
      "image/png": "[encoded data removed]",
      "text/plain": [
       "<Figure size 640x480 with 1 Axes>"
      ]
     },
     "metadata": {},
     "output_type": "display_data"
    }
   ],
   "source": [
    "#bağımlı değişkenin logaritmasını alarak normallik varsayıma\n",
    "np.log1p(df['Salary']).hist(bins=50)\n",
    "plt.show(block=True)"
   ]
  },
  {
   "cell_type": "code",
   "execution_count": null,
   "id": "de7cca2d-88d1-4bcc-8eef-5600ce9b484b",
   "metadata": {},
   "outputs": [],
   "source": []
  }
 ],
 "metadata": {
  "kernelspec": {
   "display_name": "Python 3 (ipykernel)",
   "language": "python",
   "name": "python3"
  },
  "language_info": {
   "codemirror_mode": {
    "name": "ipython",
    "version": 3
   },
   "file_extension": ".py",
   "mimetype": "text/x-python",
   "name": "python",
   "nbconvert_exporter": "python",
   "pygments_lexer": "ipython3",
   "version": "3.11.5"
  }
 },
 "nbformat": 4,
 "nbformat_minor": 5
}
